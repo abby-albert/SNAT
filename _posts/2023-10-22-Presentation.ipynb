{
 "cells": [
  {
   "cell_type": "markdown",
   "metadata": {},
   "source": [
    "## 3.12 Parts of a Procedure:\n",
    "\n",
    "\n",
    "\n"
   ]
  },
  {
   "cell_type": "markdown",
   "metadata": {},
   "source": [
    "## Vocab\n",
    "Procedure- A named group of programming instructions that may have parameters and return values\n",
    "They are referred to by different names, such as method or function, depending on the programming language\n",
    "\n",
    "Parameter- input value of a procedure. Arguments specify the values of the parameters when a procedure is called\n",
    "\n",
    "A Procedure call- interrupts the sequential execution of statements, causing the program to execute the statements wtithin the procedure before continuing . Once the last statement in the proceed has been executed, flow of control is returned to the point immediately following where procedure was called.\n",
    "\n",
    "\n",
    "\n",
    "A procedure is a group of programming instructions. They're also known as methods or functions, depending on the programming language. You can use a procedure to use the same set of instructions, again and again, without having to rewrite it into your code.In AP Pseudocode, here's how they'll represent procedures: add image\n"
   ]
  },
  {
   "cell_type": "code",
   "execution_count": null,
   "metadata": {},
   "outputs": [],
   "source": [
    "first_number = 5\n",
    "second_number = 7\n",
    "sum_value = first_number + second_number\n",
    "print (sum_value)\n"
   ]
  },
  {
   "cell_type": "markdown",
   "metadata": {},
   "source": [
    "It goes without saying that, if you wanted to sum more than one set of numbers at a time, you'd have to rewrite these lines over and over again...\n",
    "\n",
    "Let's see how we'd go about writing this as a function, or a procedure in Python.\n",
    "\n",
    "A function in Python looks like this:\n"
   ]
  },
  {
   "cell_type": "code",
   "execution_count": null,
   "metadata": {},
   "outputs": [],
   "source": [
    "def name_of_function (parameter1, parameter2):\n",
    "  #code statements here\n"
   ]
  },
  {
   "cell_type": "markdown",
   "metadata": {},
   "source": [
    "So our summing machine would look like this!\n"
   ]
  },
  {
   "cell_type": "code",
   "execution_count": null,
   "metadata": {},
   "outputs": [],
   "source": [
    "def summing_machine(first_number, second_number):\n",
    "  print (first_number + second_number)\n"
   ]
  },
  {
   "cell_type": "markdown",
   "metadata": {},
   "source": [
    "When you call a procedure, your program acts like those lines of code are written out. Once it's done executing those code lines, your program goes back to reading code sequentially.\n",
    "\n",
    "When you call that procedure with defined values or variables, those values are known as arguments.\n"
   ]
  },
  {
   "cell_type": "code",
   "execution_count": null,
   "metadata": {},
   "outputs": [],
   "source": [
    "def summing_machine(first_number, second_number):\n",
    "  print (first_number + second_number)\n",
    "\n",
    "summing_machine(5, 7)\n",
    "#In this example, 5 and 7 are examples of arguments.\n",
    "\n"
   ]
  },
  {
   "cell_type": "markdown",
   "metadata": {},
   "source": [
    "LETS LOOK AT AN EXAMPLE:  \n",
    "\n",
    "In this example this is a simple procedure to create a code for calculating the area\n"
   ]
  },
  {
   "cell_type": "code",
   "execution_count": 18,
   "metadata": {},
   "outputs": [
    {
     "name": "stdout",
     "output_type": "stream",
     "text": [
      "The area of the first rectangle is 15\n"
     ]
    }
   ],
   "source": [
    "\n",
    "\n",
    "# Define the calculate_area procedure\n",
    "def calculate_area(length, width):\n",
    "    # Calculate the area here\n",
    "    area = length * width\n",
    "    return area\n",
    "\n",
    "\n",
    "# Call the procedure with different values\n",
    "length1 = 5\n",
    "width1 = 3\n",
    "area1 = calculate_area(length1, width1)\n",
    "\n",
    "\n",
    "\n",
    "\n",
    "# Print the results\n",
    "print(f\"The area of the first rectangle is {area1}\")\n",
    "\n",
    "\n",
    "\n",
    "\n",
    "\n",
    "\n",
    "\n",
    "\n",
    "    \n",
    "\n",
    "\n"
   ]
  },
  {
   "cell_type": "markdown",
   "metadata": {},
   "source": [
    "For example:"
   ]
  },
  {
   "cell_type": "code",
   "execution_count": null,
   "metadata": {},
   "outputs": [],
   "source": [
    "def summing_machine(first_number, second_number):\n",
    "  value = first_number + second_number\n",
    "  return (value)\n",
    "\n",
    "answer = summing_machine(5, 7)\n",
    "print (answer)\n",
    "\n",
    "#you can use this to manipulate the value the function returns as well.\n",
    "\n",
    "print (answer + 1)"
   ]
  },
  {
   "cell_type": "markdown",
   "metadata": {},
   "source": [
    "## Calling Procedures Quiz"
   ]
  },
  {
   "cell_type": "markdown",
   "metadata": {},
   "source": [
    "Practice AP mq questions from collageboard: \n",
    "## In Python, what can be done by a value returned by a procedure?\n",
    "\n",
    "a. Define input variables for another procedure\n",
    "\n",
    "b. Print it to console\n",
    "\n",
    "c. Call another procedure with it\n",
    "\n",
    "d. Assign it to a variable or use it in expressions\n",
    "\n",
    "\n",
    "## Consider the following procedures.\n",
    "\n",
    "**Procedure 1**\n",
    "PROCEDURE \n",
    "proc1\n",
    "\n",
    "(str)\n",
    "{\n",
    "DISPLAY(str)\n",
    "\n",
    "DISPLAY(\"happy\")\n",
    "}\n",
    "\n",
    "\n",
    "**Procedure 2**\n",
    "PROCEDURE proc2\n",
    "\n",
    "(str1, str2)\n",
    "\n",
    "{\n",
    "proc1(str2)\n",
    "\n",
    "DISPLAY(str1)\n",
    "\n",
    "}\n",
    "\n",
    "What is displayed as a result of the procedure call `proc2(\"birthday\", \"to you\")`?\n",
    "\n",
    "1. [ ] \"birthday happy to you\"\n",
    "\n",
    "2. [] \"birthday happy birthday\"\n",
    "\n",
    "3. [ ] \"to you birthday happy\"\n",
    "\n",
    "4. [ ] \"to you happy birthday\"\n",
    "\n",
    "\n",
    "\n",
    "## Which of the following is an example of a procedural call in Python?\n",
    "\n",
    "a. `def summing_machine(first_number, second_number)`\n",
    "\n",
    "b. `summing_machine(5, 7)`\n",
    "\n",
    "c. `print(first_number + second_number)`\n",
    "\n",
    "d. `return(value)`\n",
    "\n",
    "\n",
    "\n",
    "\n",
    "\n"
   ]
  },
  {
   "cell_type": "markdown",
   "metadata": {},
   "source": [
    "## 3.13 Developing Procedures\n",
    "\n",
    "Procedural Abstraction\n",
    "\n",
    "Procedures are an example of abstraction. (In fact, it's part of a special form of abstraction known as procedural abstraction.) This is because you can call a procedure without knowing how it works. Indeed, you often do: a common built-in procedure in programming languages is the print() procedure.\n",
    "\n",
    "Procedures allow you to solve a large problem based on the solution to smaller sub-problems. \n",
    "\n",
    "For example, my final Create project was a choose-your-own-adventure story. In order to make this story, I had to figure out how to let players choose what path they were going to take, how to display this path choice, how to track a player's progress in the game so their actions would have consequences... and so on. I solved the larger \"problem\" of writing a choose-your-own-adventure story by solving all these smaller problems with procedures I then combined.\n",
    "\n",
    "\n",
    " \n",
    "\n",
    "\n",
    "\n",
    "\n",
    "\n",
    "\n",
    "\n",
    "     "
   ]
  },
  {
   "cell_type": "markdown",
   "metadata": {},
   "source": [
    "## Popcorn Hack #1\n",
    " Simplify code to make the output be one thing that gets printed \n"
   ]
  },
  {
   "cell_type": "code",
   "execution_count": 19,
   "metadata": {},
   "outputs": [
    {
     "name": "stdout",
     "output_type": "stream",
     "text": [
      "1 2 3 4\n"
     ]
    }
   ],
   "source": [
    "firstnum = 1\n",
    "secondnum = 2\n",
    "thirdnum = 3\n",
    "fourthnum = 4\n",
    "print(firstnum, secondnum, thirdnum, fourthnum)"
   ]
  },
  {
   "cell_type": "markdown",
   "metadata": {},
   "source": [
    "## Answer"
   ]
  },
  {
   "cell_type": "code",
   "execution_count": 22,
   "metadata": {},
   "outputs": [
    {
     "name": "stdout",
     "output_type": "stream",
     "text": [
      "1\n"
     ]
    }
   ],
   "source": [
    "firstnum = 1\n",
    "secondnum = 2\n",
    "thirdnum = 3\n",
    "fourthnum = 4\n",
    "\n",
    "print(firstnum)\n"
   ]
  },
  {
   "cell_type": "markdown",
   "metadata": {},
   "source": [
    "When you divide a computer program into separate sub-programs, it's known as modularity.\n",
    "Procedures can also help you simplify your code and improve its readability.\n",
    "Instead of this:\n"
   ]
  },
  {
   "cell_type": "code",
   "execution_count": 13,
   "metadata": {},
   "outputs": [
    {
     "name": "stdout",
     "output_type": "stream",
     "text": [
      "12\n",
      "10\n",
      "12\n"
     ]
    }
   ],
   "source": [
    "first_number = 7\n",
    "second_number = 5\n",
    "sum_value = first_number + second_number\n",
    "print (sum_value)\n",
    "\n",
    "first_number = 8\n",
    "second_number = 2\n",
    "sum_value = first_number + second_number\n",
    "print (sum_value)\n",
    "\n",
    "first_number = 9\n",
    "second_number = 3\n",
    "sum_value = first_number + second_number\n",
    "print (sum_value)\n"
   ]
  },
  {
   "cell_type": "markdown",
   "metadata": {},
   "source": [
    "you get this:\n"
   ]
  },
  {
   "cell_type": "code",
   "execution_count": null,
   "metadata": {},
   "outputs": [],
   "source": [
    "def summing_machine(first_number, second_number):\n",
    "  sum_value = first_number + second_number\n",
    "  print (sum_value)\n",
    "\n",
    "summing_machine(5, 7)\n",
    "summing_machine(8, 2)\n",
    "summing_machine(9, 3)\n"
   ]
  },
  {
   "cell_type": "markdown",
   "metadata": {},
   "source": [
    "Isn't the second example a lot easier to understand? \n",
    "\n",
    "This is especially important in larger programs, where you might already be looking at hundreds of lines of code.\n",
    "\n",
    "The beauty of procedures is how they can be reused. Parameters usually represent general categories of data, such as numbers or strings. \n",
    "\n",
    "This means you could use one procedure for a wide range of individual scenarios.\n",
    "\n",
    "Remember that placing a return statement inside a procedure will cause an immediate return from the procedure back to where the procedure is called. \n",
    "\n",
    "The return statement may appear at any point inside the procedure.\n",
    "\n",
    "Procedural abstraction also allows programmers the flexibility to modify or fix procedures without affecting the whole program, as long as the procedure continues to function in the same way. \n",
    "\n",
    "Furthermore, they can make a change or edit once, in the procedure, and it will be implemented everywhere the procedure is called.\n"
   ]
  },
  {
   "cell_type": "markdown",
   "metadata": {},
   "source": [
    "## Popcorn Hack #2: create a Python program that generates multiplication tables for a specific number up to a specified limit. \n",
    "\n"
   ]
  },
  {
   "cell_type": "code",
   "execution_count": 14,
   "metadata": {},
   "outputs": [
    {
     "name": "stdout",
     "output_type": "stream",
     "text": [
      "Multiplication Table for 5 (Up to 10):\n",
      "\n",
      "5 x 1 = 5\n",
      "5 x 2 = 10\n",
      "5 x 3 = 15\n",
      "5 x 4 = 20\n",
      "5 x 5 = 25\n",
      "5 x 6 = 30\n",
      "5 x 7 = 35\n",
      "5 x 8 = 40\n",
      "5 x 9 = 45\n",
      "5 x 10 = 50\n"
     ]
    }
   ],
   "source": [
    "def generate_multiplication_table(number, limit):\n",
    "    \"\"\"\n",
    "    Generates a multiplication table for the given number up to the specified limit.\n",
    "    \n",
    "    :param number: The number for which to generate the table.\n",
    "    :param limit: The upper limit of the table (e.g., how far the multiplication will go).\n",
    "    \"\"\"\n",
    "    print(f\"Multiplication Table for {number} (Up to {limit}):\\n\")\n",
    "    \n",
    "    for i in range(1, limit + 1):\n",
    "        result = number * i\n",
    "        print(f\"{number} x {i} = {result}\")\n",
    "\n",
    "# Usage\n",
    "generate_multiplication_table(5, 10)\n"
   ]
  },
  {
   "cell_type": "markdown",
   "metadata": {},
   "source": [
    "## Homework\n",
    "1) Write a Python function called procedural_abstraction_example that demonstrates procedural abstraction by performing a specific task. Your function should take at least one parameter and return a result. \n",
    "2) Write a Python function called summing_machine that takes two parameters, first_number and second_number, and returns the sum of these numbers. Use this function to calculate the sum of 7 and 5. Print the result.\n",
    "3) \n",
    "\n"
   ]
  }
 ],
 "metadata": {
  "kernelspec": {
   "display_name": "Python 3",
   "language": "python",
   "name": "python3"
  },
  "language_info": {
   "codemirror_mode": {
    "name": "ipython",
    "version": 3
   },
   "file_extension": ".py",
   "mimetype": "text/x-python",
   "name": "python",
   "nbconvert_exporter": "python",
   "pygments_lexer": "ipython3",
   "version": "3.10.12"
  },
  "orig_nbformat": 4
 },
 "nbformat": 4,
 "nbformat_minor": 2
}
