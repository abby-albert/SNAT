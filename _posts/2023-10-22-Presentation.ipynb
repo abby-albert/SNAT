{
 "cells": [
  {
   "cell_type": "markdown",
   "metadata": {},
   "source": [
    "---\n",
    "toc: false\n",
    "comments: false\n",
    "layout: post\n",
    "title: SNAT team presentation\n",
    "description: Calling Procedures and Developing Procedures\n",
    "type: tangibles\n",
    "courses: { compsci: {week: 1} }\n",
    "---\n"
   ]
  },
  {
   "cell_type": "markdown",
   "metadata": {},
   "source": [
    "## parts of a procedure:\n",
    "\n",
    "- When you CALL a procedure, your program acts like those lines of code are written out. Once it's done executing those code lines, your program goes back to reading code sequentially.\n",
    "- When you call that procedure with defined values or variables, those values are known as ARGUMENTS.\n"
   ]
  },
  {
   "cell_type": "code",
   "execution_count": null,
   "metadata": {},
   "outputs": [],
   "source": [
    "first_number = 5\n",
    "second_number = 7\n",
    "sum_value = first_number + second_number\n",
    "print (sum_value)"
   ]
  },
  {
   "cell_type": "markdown",
   "metadata": {},
   "source": [
    "This in python would look like this..."
   ]
  },
  {
   "cell_type": "code",
   "execution_count": null,
   "metadata": {},
   "outputs": [],
   "source": [
    "def name_of_function (parameter1, parameter2):\n",
    "  #code statements here\n",
    "\n",
    "\n",
    "def summing_machine(first_number, second_number):\n",
    "  print (first_number + second_number)\n",
    "\n",
    "summing_machine(5, 7)\n",
    "#In this example, 5 and 7 are examples of arguments.\n",
    "\n"
   ]
  },
  {
   "cell_type": "markdown",
   "metadata": {},
   "source": [
    "## Lets look at an example:\n",
    "- In this example this is a simple procedure to create a code for calculating the area"
   ]
  },
  {
   "cell_type": "code",
   "execution_count": 5,
   "metadata": {},
   "outputs": [
    {
     "name": "stdout",
     "output_type": "stream",
     "text": [
      "The area of the first rectangle is 15\n"
     ]
    }
   ],
   "source": [
    "# Define the calculate_area procedure\n",
    "def calculate_area(length, width):\n",
    "    # Calculate the area here\n",
    "    area = length * width\n",
    "    return area\n",
    "\n",
    "# Call the procedure with different values\n",
    "length1 = 5\n",
    "width1 = 3\n",
    "area1 = calculate_area(length1, width1)\n",
    "\n",
    "\n",
    "# Print the results\n",
    "print(f\"The area of the first rectangle is {area1}\")\n",
    "\n"
   ]
  }
 ],
 "metadata": {
  "kernelspec": {
   "display_name": "Python 3",
   "language": "python",
   "name": "python3"
  },
  "language_info": {
   "codemirror_mode": {
    "name": "ipython",
    "version": 3
   },
   "file_extension": ".py",
   "mimetype": "text/x-python",
   "name": "python",
   "nbconvert_exporter": "python",
   "pygments_lexer": "ipython3",
   "version": "3.10.12"
  }
 },
 "nbformat": 4,
 "nbformat_minor": 2
}
