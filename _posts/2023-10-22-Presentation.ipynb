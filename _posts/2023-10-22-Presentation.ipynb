{
 "cells": [
  {
   "cell_type": "code",
   "execution_count": null,
   "metadata": {},
   "outputs": [],
   "source": [
    "html_code = \"\"\"\n",
    "<!DOCTYPE html>\n",
    "<html>\n",
    "<head>\n",
    "    <title>Calling Procedures</title>\n",
    "</head>\n",
    "<body>\n",
    "    <h1>Welcome to the Calling Procedures Page</h1>\n",
    "    <p>This is a sample HTML page with the title \"Calling Procedures.\"</p>\n",
    "</body>\n",
    "</html>\n",
    "\"\"\"\n",
    "\n",
    "# Save the HTML code to a file named \"calling_procedures.html\"\n",
    "with open(\"calling_procedures.html\", \"w\") as file:\n",
    "    file.write(html_code)\n",
    "\n",
    "print(\"HTML file 'calling_procedures.html' has been created.\")\n"
   ]
  }
 ],
 "metadata": {
  "language_info": {
   "name": "python"
  }
 },
 "nbformat": 4,
 "nbformat_minor": 2
}
