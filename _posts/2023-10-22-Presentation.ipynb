{
 "cells": [
  {
   "cell_type": "code",
   "execution_count": null,
   "metadata": {},
   "outputs": [],
   "source": [
    "html_code = \"\"\"\n",
    "<!DOCTYPE html>\n",
    "<html>\n",
    "<head>\n",
    "    <title>Developing Procedures</title>\n",
    "</head>\n",
    "<body>\n",
    "    <h1>Welcome to the Calling Procedures Page</h1>\n",
    "    <p>This is a sample HTML page with the title \"Calling Procedures.\"</p>\n",
    "</body>\n",
    "</html>\n",
    "\"\"\"\n",
    "\n",
    "# Save the HTML code to a file named \"calling_procedures.html\"\n",
    "with open(\"calling_procedures.html\", \"w\") as file:\n",
    "    file.write(html_code)\n",
    "\n",
    "print(\"HTML file 'calling_procedures.html' has been created.\")\n"
   ]
  },
  {
   "cell_type": "code",
   "execution_count": null,
   "metadata": {},
   "outputs": [],
   "source": [
    "# Let's go back to this example we used earlier for a program that sums two numbers.\n",
    "first_number = 5\n",
    "second_number = 7\n",
    "sum_value = first_number + second_number\n",
    "print(sum_value)\n",
    "\n",
    "# It goes without saying that, if you wanted to sum more than one set of numbers at a time, you'd have to rewrite these lines over and over again...\n",
    "\n",
    "# Let's see how we'd go about writing this as a function, or a procedure in Python.\n",
    "\n",
    "# A function in Python looks like this:\n",
    "def name_of_function(parameter1, parameter2):\n",
    "  # code statements here\n",
    "\n",
    "# So our summing machine would look like this!\n",
    "def summing_machine(first_number, second_number):\n",
    "  print(first_number + second_number)\n",
    "\n",
    "# When you call a procedure, your program acts like those lines of code are written out. \n",
    "# Once it's done executing those code lines, your program goes back to reading code sequentially.\n",
    "\n",
    "# When you call that procedure with defined values or variables, those values are known as arguments.\n",
    "def summing_machine(first_number, second_number):\n",
    "  print(first_number + second_number)\n",
    "\n",
    "summing_machine(5, 7)\n",
    "# In this example, 5 and 7 are examples of arguments.\n",
    "\n",
    "# Define a function to sum two numbers and return the result\n",
    "def summing_machine(first_number, second_number):\n",
    "  value = first_number + second_number\n",
    "  return value\n",
    "\n",
    "# Call the function with arguments and store the result in the 'answer' variable\n",
    "answer = summing_machine(5, 7)\n",
    "print(answer)\n",
    "\n",
    "# You can use this to manipulate the value the function returns as well.\n",
    "print(answer + 1)\n"
   ]
  }
 ],
 "metadata": {
  "language_info": {
   "name": "python"
  }
 },
 "nbformat": 4,
 "nbformat_minor": 2
}
