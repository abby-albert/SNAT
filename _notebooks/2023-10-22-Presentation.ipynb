{
 "cells": [
  {
   "cell_type": "code",
   "execution_count": null,
   "metadata": {},
   "outputs": [],
   "source": []
  },
  {
   "cell_type": "code",
   "execution_count": null,
   "metadata": {},
   "outputs": [],
   "source": [
    "print(\" Let's go back to this example we used earlier for a program that sums two numbers.\n",
    "first_number = 5\n",
    "second_number = 7\n",
    "sum_value = first_number + second_number\n",
    "print (sum_value)\n",
    "It goes without saying that, if you wanted to sum more than one set of numbers at a time, you'd have to rewrite these lines over and over again...\n",
    "Let's see how we'd go about writing this as a function, or a procedure in Python.\n",
    "A function in Python looks like this:\n",
    "def name_of_function (parameter1, parameter2):\n",
    "  #code statements here\n",
    "So our summing machine would look like this!\n",
    "def summing_machine(first_number, second_number):\n",
    "  print (first_number + second_number)\n",
    "When you call a procedure, your program acts like those lines of code are written out. Once it's done executing those code lines, your program goes back to reading code sequentially.\n",
    "When you call that procedure with defined values or variables, those values are known as arguments.\n",
    "def summing_machine(first_number, second_number):\n",
    "  print (first_number + second_number)\n",
    "\n",
    "summing_machine(5, 7)\n",
    "#In this example, 5 and 7 are examples of arguments.\n",
    "\n",
    "\n",
    "LETS LOOK AT AN EXAMPLE:  In this example this is a simple procedure to create a code for calculating the area\n",
    "\")\n",
    "\n",
    "# Define the calculate_area procedure\n",
    "def calculate_area(length, width):\n",
    "    # Calculate the area here\n",
    "    area = length * width\n",
    "    return area\n",
    "\n",
    "\n",
    "# Call the procedure with different values\n",
    "length1 = 5\n",
    "width1 = 3\n",
    "area1 = calculate_area(length1, width1)\n",
    "\n",
    "\n",
    "\n",
    "\n",
    "# Print the results\n",
    "print(f\"The area of the first rectangle is {area1}\")\n"
   ]
  }
 ],
 "metadata": {
  "kernelspec": {
   "display_name": "Python 3",
   "language": "python",
   "name": "python3"
  },
  "language_info": {
   "codemirror_mode": {
    "name": "ipython",
    "version": 3
   },
   "file_extension": ".py",
   "mimetype": "text/x-python",
   "name": "python",
   "nbconvert_exporter": "python",
   "pygments_lexer": "ipython3",
   "version": "3.11.5"
  },
  "orig_nbformat": 4
 },
 "nbformat": 4,
 "nbformat_minor": 2
}
